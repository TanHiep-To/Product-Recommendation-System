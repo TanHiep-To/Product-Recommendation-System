{
 "cells": [
  {
   "cell_type": "markdown",
   "id": "fe1bb1cc",
   "metadata": {},
   "source": [
    "## Demographic Filtering\n",
    "They offer generalized recommendations to every user, based on movie popularity and/or genre. The System recommends the same movies to users with similar demographic features. Since each user is different , this approach is considered to be too simple. The basic idea behind this system is that movies that are more popular and critically acclaimed will have a higher probability of being liked by the average audience."
   ]
  },
  {
   "cell_type": "code",
   "execution_count": 4,
   "id": "30a9a4f9",
   "metadata": {},
   "outputs": [],
   "source": [
    "import os\n",
    "import sys\n",
    "current_dir = os.getcwd()\n",
    "parent_dir = os.path.abspath(os.path.join(current_dir, '..'))\n",
    "sys.path.append(parent_dir)\n",
    "from pre_processing import MovieDataset\n",
    "from recommend.graphic_filtering import GraphicFiltering"
   ]
  },
  {
   "cell_type": "code",
   "execution_count": 2,
   "id": "11bdad91",
   "metadata": {},
   "outputs": [],
   "source": [
    "credits_path = os.path.join(parent_dir, 'data', 'raw', 'tmdb_5000_credits.csv')\n",
    "movies_path = os.path.join(parent_dir, 'data', 'raw', 'tmdb_5000_movies.csv')"
   ]
  },
  {
   "cell_type": "code",
   "execution_count": 3,
   "id": "338974f7",
   "metadata": {},
   "outputs": [
    {
     "name": "stdout",
     "output_type": "stream",
     "text": [
      "Starting data loading...\n",
      "Starting data preprocessing...\n"
     ]
    }
   ],
   "source": [
    "dataset = MovieDataset(credits_path, movies_path)\n",
    "dataset.load_data()\n",
    "dataset.preprocess_data()\n",
    "processed_data = dataset.data"
   ]
  },
  {
   "cell_type": "code",
   "execution_count": 5,
   "id": "d36abcdc",
   "metadata": {},
   "outputs": [
    {
     "name": "stdout",
     "output_type": "stream",
     "text": [
      "Top 10 movie recommendations based on graphic filtering:\n",
      "                                              title  vote_count  vote_average  \\\n",
      "1881                       The Shawshank Redemption        8205           8.5   \n",
      "662                                      Fight Club        9413           8.3   \n",
      "65                                  The Dark Knight       12002           8.2   \n",
      "3232                                   Pulp Fiction        8428           8.3   \n",
      "96                                        Inception       13752           8.1   \n",
      "3337                                  The Godfather        5893           8.4   \n",
      "95                                     Interstellar       10867           8.1   \n",
      "809                                    Forrest Gump        7927           8.2   \n",
      "329   The Lord of the Rings: The Return of the King        8064           8.1   \n",
      "1990                        The Empire Strikes Back        5879           8.2   \n",
      "\n",
      "         score  \n",
      "1881  8.059333  \n",
      "662   7.939332  \n",
      "65    7.920083  \n",
      "3232  7.904731  \n",
      "96    7.863298  \n",
      "3337  7.851356  \n",
      "95    7.809554  \n",
      "809   7.803286  \n",
      "329   7.727346  \n",
      "1990  7.698020  \n"
     ]
    }
   ],
   "source": [
    "graphic_filter = GraphicFiltering(processed_data)\n",
    "recommendations = graphic_filter.recommend(top_n=10)\n",
    "print(\"Top 10 movie recommendations based on graphic filtering:\")\n",
    "print(recommendations[['title', 'vote_count', 'vote_average', 'score']])"
   ]
  }
 ],
 "metadata": {
  "kernelspec": {
   "display_name": "product",
   "language": "python",
   "name": "python3"
  },
  "language_info": {
   "codemirror_mode": {
    "name": "ipython",
    "version": 3
   },
   "file_extension": ".py",
   "mimetype": "text/x-python",
   "name": "python",
   "nbconvert_exporter": "python",
   "pygments_lexer": "ipython3",
   "version": "3.12.11"
  }
 },
 "nbformat": 4,
 "nbformat_minor": 5
}
